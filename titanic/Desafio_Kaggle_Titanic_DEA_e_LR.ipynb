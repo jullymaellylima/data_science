{
 "cells": [
  {
   "cell_type": "markdown",
   "metadata": {
    "id": "KruOJ1krPpWW"
   },
   "source": [
    "# Titanic: Investigando o naufrágio através dos dados.\n",
    "\n",
    "O desafio do Titanic ficou popularmente conhecido por conta do [Kaggle](https://https://www.kaggle.com/), e é considerado um dos passos iniciais na área de machine learning. \n",
    "\n",
    "Em 15 de abril de 1912, ao colidir com um *iceberg*, o Titanic naufragou, ocasionando a morte de 1502 pessoas - de um total de 2224. \n",
    "\n",
    "**Utilizando uma base de dados real, o objetivo desse desafio é mensurar a chance de sobrevivencia dos passageiros do Titanic, de acordo com suas características.**"
   ]
  },
  {
   "cell_type": "markdown",
   "metadata": {
    "id": "-ZW19zsqvGKy"
   },
   "source": [
    "# Checklist do relatório:\n",
    "\n",
    "\n",
    "\n",
    "1.   Definição do Problema; \n",
    "2.   Obtenção de Dados;\n",
    "3. Exploração de Dados;\n",
    "4. Preparação dos Dados;\n",
    "5. Construção do Modelo;\n",
    "6. Avaliação.\n",
    "\n"
   ]
  },
  {
   "cell_type": "markdown",
   "metadata": {
    "id": "XHChQFnY0Zvy"
   },
   "source": [
    "# 1. Definição do Problema\n",
    "\n",
    "O naufrágio do Titanic é um dos mais famosos da história, e ocorreu na sua viagem inaugural, em abril de 1912, quando era considerado \"inaufragável\". Com a ausência de botes salva-vidas para todos, houve a morte de 1.502 pessoas entre os 2.224 passageiros e tripulantes.\n",
    "\n",
    "Apesar do fator sorte envolvido na sobrevivência, analisando os dados é possível perceber que determinados grupos de pessoas tinham mais chance de sobreviver que outros.\n",
    "\n",
    "A descrição do desafio e o dataset estão disponíveis na página do Kaggle: [Titanic - Machine Learning from Disaster](https://https://www.kaggle.com/c/titanic)\n",
    "\n",
    "# Objetivo\n",
    "\n",
    "Construção de um modelo preditivo, que utilize os dados dos passageiros para responder quais grupos de pessoas têm mais probabilidade de sobrevier.\n",
    "\n",
    "\n",
    "# Métrica de desempenho\n",
    "\n",
    "O score é calculado baseado no número de previsões corretas do modelo, ou seja, considera a acurácia do modelo.\n",
    "\n"
   ]
  },
  {
   "cell_type": "markdown",
   "metadata": {
    "id": "x0FQDOfgKzRV"
   },
   "source": [
    "# 2. Obtenção dos Dados \n",
    "\n",
    "O Kaggle disponibilizou os dados em dois grupos: \n",
    "\n",
    "* Dataset de treino - ```train.csv```\n",
    "  * Esse dataset informa se o passageiro sobreviveu ou não e deve ser usado para desenvolver o modelo de Machine Learning.\n",
    "  * Possui diversas *features*, como classe, idade e gênero do passageiro.\n",
    "\n",
    "* Dataset de Teste - ```test.csv```\n",
    "  * Esse conjunto de dados não informa se o passageiro sobreviveu ou não e deve ser usado como dados que nunca foram vistos pelo modelo.\n",
    "\n",
    "O Kaggle disponibiliza um modelo de como as previsões devem ser submetidas à plataforma (```gender_submission```)\n",
    "\n"
   ]
  },
  {
   "cell_type": "code",
   "execution_count": 1,
   "metadata": {
    "id": "CZnwW9EayXoj"
   },
   "outputs": [],
   "source": [
    "#pacotes necessários\n",
    "\n",
    "import pandas as pd\n",
    "import numpy as np\n",
    "import matplotlib.pyplot as plt\n",
    "import seaborn as sns\n",
    "\n",
    "#visualizar todas as colunas\n",
    "pd.options.display.max_columns = None"
   ]
  },
  {
   "cell_type": "code",
   "execution_count": 2,
   "metadata": {
    "id": "9rd59XWwzjtu"
   },
   "outputs": [],
   "source": [
    "train = pd.read_csv('./datasets/train.csv')\n",
    "test = pd.read_csv('./datasets/test.csv')"
   ]
  },
  {
   "cell_type": "code",
   "execution_count": 3,
   "metadata": {
    "colab": {
     "base_uri": "https://localhost:8080/"
    },
    "id": "qgZARCWf7OtJ",
    "outputId": "15547983-cd05-4892-a2ac-cd607481e137"
   },
   "outputs": [
    {
     "name": "stdout",
     "output_type": "stream",
     "text": [
      "BASE TREINO\n",
      "Variáveis:\t12\n",
      "Entradas:\t891\n",
      "\n",
      "BASE TESTE\n",
      "Variáveis:\t11\n",
      "Entradas:\t418\n"
     ]
    }
   ],
   "source": [
    "#verificando as dimensões do DataFrame\n",
    "\n",
    "print(f'BASE TREINO\\nVariáveis:\\t{train.shape[1]}\\nEntradas:\\t{train.shape[0]}\\n')\n",
    "print(f'BASE TESTE\\nVariáveis:\\t{test.shape[1]}\\nEntradas:\\t{test.shape[0]}')"
   ]
  },
  {
   "cell_type": "markdown",
   "metadata": {
    "id": "gWHcYotX8K6P"
   },
   "source": [
    "# 3. Exploração de Dados\n",
    "\n",
    "O estudo de cada variável é realizado, com atenção aos seus nomes, tipos, porcentagem de valores ausentes, outliers e tipos de distribuição. \n",
    "\n",
    "O modelo utilizado é classificado como de Aprendizado Supervisionado (*Supervised Learning*) e a variável alvo (*target*) é a variável ```Survived```.\n"
   ]
  },
  {
   "cell_type": "markdown",
   "metadata": {
    "id": "BN-ecueSB13t"
   },
   "source": [
    "# Dicionário de Dados\n",
    "\n",
    "* **PassengerId:** Número de identificação do passageiro\n",
    "* **Survived:** Informa se o passageiro sobreviveu ao desastre\n",
    "    * 0 = Não\n",
    "    * 1 = Sim\n",
    "* **Pclass:** Classe do bilhete\n",
    "    * 1 = 1ª Classe\n",
    "    * 2 = 2ª Classe\n",
    "    * 3 = 3ª Classe\n",
    "* **Name:** Nome do passageiro\n",
    "* **Sex:** Sexo do passageiro\n",
    "* **Age:** Idade do passageiro\n",
    "* **SibSp:** Quantidade de cônjuges e irmãos a bordo\n",
    "* **Parch:** Quantidade de pais e filhos a bordo\n",
    "* **Ticket:** Número da passagem\n",
    "* **Fare:** Preço da Passagem\n",
    "* **Cabin:** Número da cabine do passageiro\n",
    "* **Embarked:** Porto no qual o passageiro embarcou\n",
    "    * C = Cherbourg\n",
    "    * Q = Queenstown\n",
    "    * S = Southampton\n"
   ]
  },
  {
   "cell_type": "markdown",
   "metadata": {
    "id": "mCEVWbQcCb-B"
   },
   "source": [
    "## Tipos das Variáveis\n",
    "\n",
    "* Variáveis Numéricas\n",
    "    * Discretas\n",
    "        * Pclass\n",
    "        * SibSp\n",
    "        * Parch\n",
    "    * Contínuas\n",
    "        * Age\n",
    "        * Fare\n",
    "    * Alvo\n",
    "        * Survived\n",
    "    * Chave Primária\n",
    "        * PassengerId\n",
    "* Variáveis Categóricas\n",
    "    * Name\n",
    "    * Sex\n",
    "    * Ticket\n",
    "    * Cabin\n",
    "    * Embarked"
   ]
  },
  {
   "cell_type": "code",
   "execution_count": 4,
   "metadata": {
    "colab": {
     "base_uri": "https://localhost:8080/",
     "height": 462
    },
    "id": "Fk_G7RsuDvm-",
    "outputId": "68822684-a609-4d5e-9235-ede13c37e8fa"
   },
   "outputs": [
    {
     "data": {
      "text/plain": [
       "PassengerId      int64\n",
       "Survived         int64\n",
       "Pclass           int64\n",
       "Name            object\n",
       "Sex             object\n",
       "Age            float64\n",
       "SibSp            int64\n",
       "Parch            int64\n",
       "Ticket          object\n",
       "Fare           float64\n",
       "Cabin           object\n",
       "Embarked        object\n",
       "dtype: object"
      ]
     },
     "metadata": {},
     "output_type": "display_data"
    },
    {
     "data": {
      "text/html": [
       "<div>\n",
       "<style scoped>\n",
       "    .dataframe tbody tr th:only-of-type {\n",
       "        vertical-align: middle;\n",
       "    }\n",
       "\n",
       "    .dataframe tbody tr th {\n",
       "        vertical-align: top;\n",
       "    }\n",
       "\n",
       "    .dataframe thead th {\n",
       "        text-align: right;\n",
       "    }\n",
       "</style>\n",
       "<table border=\"1\" class=\"dataframe\">\n",
       "  <thead>\n",
       "    <tr style=\"text-align: right;\">\n",
       "      <th></th>\n",
       "      <th>PassengerId</th>\n",
       "      <th>Survived</th>\n",
       "      <th>Pclass</th>\n",
       "      <th>Name</th>\n",
       "      <th>Sex</th>\n",
       "      <th>Age</th>\n",
       "      <th>SibSp</th>\n",
       "      <th>Parch</th>\n",
       "      <th>Ticket</th>\n",
       "      <th>Fare</th>\n",
       "      <th>Cabin</th>\n",
       "      <th>Embarked</th>\n",
       "    </tr>\n",
       "  </thead>\n",
       "  <tbody>\n",
       "    <tr>\n",
       "      <th>0</th>\n",
       "      <td>1</td>\n",
       "      <td>0</td>\n",
       "      <td>3</td>\n",
       "      <td>Braund, Mr. Owen Harris</td>\n",
       "      <td>male</td>\n",
       "      <td>22.0</td>\n",
       "      <td>1</td>\n",
       "      <td>0</td>\n",
       "      <td>A/5 21171</td>\n",
       "      <td>7.2500</td>\n",
       "      <td>NaN</td>\n",
       "      <td>S</td>\n",
       "    </tr>\n",
       "    <tr>\n",
       "      <th>1</th>\n",
       "      <td>2</td>\n",
       "      <td>1</td>\n",
       "      <td>1</td>\n",
       "      <td>Cumings, Mrs. John Bradley (Florence Briggs Th...</td>\n",
       "      <td>female</td>\n",
       "      <td>38.0</td>\n",
       "      <td>1</td>\n",
       "      <td>0</td>\n",
       "      <td>PC 17599</td>\n",
       "      <td>71.2833</td>\n",
       "      <td>C85</td>\n",
       "      <td>C</td>\n",
       "    </tr>\n",
       "    <tr>\n",
       "      <th>2</th>\n",
       "      <td>3</td>\n",
       "      <td>1</td>\n",
       "      <td>3</td>\n",
       "      <td>Heikkinen, Miss. Laina</td>\n",
       "      <td>female</td>\n",
       "      <td>26.0</td>\n",
       "      <td>0</td>\n",
       "      <td>0</td>\n",
       "      <td>STON/O2. 3101282</td>\n",
       "      <td>7.9250</td>\n",
       "      <td>NaN</td>\n",
       "      <td>S</td>\n",
       "    </tr>\n",
       "    <tr>\n",
       "      <th>3</th>\n",
       "      <td>4</td>\n",
       "      <td>1</td>\n",
       "      <td>1</td>\n",
       "      <td>Futrelle, Mrs. Jacques Heath (Lily May Peel)</td>\n",
       "      <td>female</td>\n",
       "      <td>35.0</td>\n",
       "      <td>1</td>\n",
       "      <td>0</td>\n",
       "      <td>113803</td>\n",
       "      <td>53.1000</td>\n",
       "      <td>C123</td>\n",
       "      <td>S</td>\n",
       "    </tr>\n",
       "    <tr>\n",
       "      <th>4</th>\n",
       "      <td>5</td>\n",
       "      <td>0</td>\n",
       "      <td>3</td>\n",
       "      <td>Allen, Mr. William Henry</td>\n",
       "      <td>male</td>\n",
       "      <td>35.0</td>\n",
       "      <td>0</td>\n",
       "      <td>0</td>\n",
       "      <td>373450</td>\n",
       "      <td>8.0500</td>\n",
       "      <td>NaN</td>\n",
       "      <td>S</td>\n",
       "    </tr>\n",
       "  </tbody>\n",
       "</table>\n",
       "</div>"
      ],
      "text/plain": [
       "   PassengerId  Survived  Pclass  \\\n",
       "0            1         0       3   \n",
       "1            2         1       1   \n",
       "2            3         1       3   \n",
       "3            4         1       1   \n",
       "4            5         0       3   \n",
       "\n",
       "                                                Name     Sex   Age  SibSp  \\\n",
       "0                            Braund, Mr. Owen Harris    male  22.0      1   \n",
       "1  Cumings, Mrs. John Bradley (Florence Briggs Th...  female  38.0      1   \n",
       "2                             Heikkinen, Miss. Laina  female  26.0      0   \n",
       "3       Futrelle, Mrs. Jacques Heath (Lily May Peel)  female  35.0      1   \n",
       "4                           Allen, Mr. William Henry    male  35.0      0   \n",
       "\n",
       "   Parch            Ticket     Fare Cabin Embarked  \n",
       "0      0         A/5 21171   7.2500   NaN        S  \n",
       "1      0          PC 17599  71.2833   C85        C  \n",
       "2      0  STON/O2. 3101282   7.9250   NaN        S  \n",
       "3      0            113803  53.1000  C123        S  \n",
       "4      0            373450   8.0500   NaN        S  "
      ]
     },
     "metadata": {},
     "output_type": "display_data"
    }
   ],
   "source": [
    "#identificando os tipos de cada variável\n",
    "\n",
    "display(train.dtypes)\n",
    "\n",
    "#5 primeiras entradas do conjunto de treino\n",
    "\n",
    "display(train.head())"
   ]
  },
  {
   "cell_type": "markdown",
   "metadata": {
    "id": "m0B6zYX-Edqg"
   },
   "source": [
    "##Porcentagem de valores ausentes\n",
    "\n",
    "A variável ```Cabin``` é a que possui mais valores ausentes, 77%. A coluna ```Age``` vem em seguida, com mais de 19%, e a coluna ```Embarked``` possui 2% de valores ausentes."
   ]
  },
  {
   "cell_type": "code",
   "execution_count": 5,
   "metadata": {
    "colab": {
     "base_uri": "https://localhost:8080/"
    },
    "id": "mHugKCTrFSCo",
    "outputId": "395fe8e7-19da-44cb-d07e-d1ad20e5f2f8"
   },
   "outputs": [
    {
     "data": {
      "text/plain": [
       "Cabin          0.771044\n",
       "Age            0.198653\n",
       "Embarked       0.002245\n",
       "PassengerId    0.000000\n",
       "Survived       0.000000\n",
       "Pclass         0.000000\n",
       "Name           0.000000\n",
       "Sex            0.000000\n",
       "SibSp          0.000000\n",
       "Parch          0.000000\n",
       "Ticket         0.000000\n",
       "Fare           0.000000\n",
       "dtype: float64"
      ]
     },
     "execution_count": 5,
     "metadata": {},
     "output_type": "execute_result"
    }
   ],
   "source": [
    "#porcetagem de valores ausentes\n",
    "\n",
    "(train.isnull().sum() / train.shape[0]).sort_values(ascending=False)"
   ]
  },
  {
   "cell_type": "markdown",
   "metadata": {
    "id": "midJZdkSF3Yg"
   },
   "source": [
    "##Distribuição estatística dos dados"
   ]
  },
  {
   "cell_type": "code",
   "execution_count": 6,
   "metadata": {
    "colab": {
     "base_uri": "https://localhost:8080/",
     "height": 287
    },
    "id": "Gcif0TDlGAVw",
    "outputId": "c8b9dd82-5a2d-4487-99ac-0d2144b24bef"
   },
   "outputs": [
    {
     "data": {
      "text/html": [
       "<div>\n",
       "<style scoped>\n",
       "    .dataframe tbody tr th:only-of-type {\n",
       "        vertical-align: middle;\n",
       "    }\n",
       "\n",
       "    .dataframe tbody tr th {\n",
       "        vertical-align: top;\n",
       "    }\n",
       "\n",
       "    .dataframe thead th {\n",
       "        text-align: right;\n",
       "    }\n",
       "</style>\n",
       "<table border=\"1\" class=\"dataframe\">\n",
       "  <thead>\n",
       "    <tr style=\"text-align: right;\">\n",
       "      <th></th>\n",
       "      <th>PassengerId</th>\n",
       "      <th>Survived</th>\n",
       "      <th>Pclass</th>\n",
       "      <th>Age</th>\n",
       "      <th>SibSp</th>\n",
       "      <th>Parch</th>\n",
       "      <th>Fare</th>\n",
       "    </tr>\n",
       "  </thead>\n",
       "  <tbody>\n",
       "    <tr>\n",
       "      <th>count</th>\n",
       "      <td>891.000000</td>\n",
       "      <td>891.000000</td>\n",
       "      <td>891.000000</td>\n",
       "      <td>714.000000</td>\n",
       "      <td>891.000000</td>\n",
       "      <td>891.000000</td>\n",
       "      <td>891.000000</td>\n",
       "    </tr>\n",
       "    <tr>\n",
       "      <th>mean</th>\n",
       "      <td>446.000000</td>\n",
       "      <td>0.383838</td>\n",
       "      <td>2.308642</td>\n",
       "      <td>29.699118</td>\n",
       "      <td>0.523008</td>\n",
       "      <td>0.381594</td>\n",
       "      <td>32.204208</td>\n",
       "    </tr>\n",
       "    <tr>\n",
       "      <th>std</th>\n",
       "      <td>257.353842</td>\n",
       "      <td>0.486592</td>\n",
       "      <td>0.836071</td>\n",
       "      <td>14.526497</td>\n",
       "      <td>1.102743</td>\n",
       "      <td>0.806057</td>\n",
       "      <td>49.693429</td>\n",
       "    </tr>\n",
       "    <tr>\n",
       "      <th>min</th>\n",
       "      <td>1.000000</td>\n",
       "      <td>0.000000</td>\n",
       "      <td>1.000000</td>\n",
       "      <td>0.420000</td>\n",
       "      <td>0.000000</td>\n",
       "      <td>0.000000</td>\n",
       "      <td>0.000000</td>\n",
       "    </tr>\n",
       "    <tr>\n",
       "      <th>25%</th>\n",
       "      <td>223.500000</td>\n",
       "      <td>0.000000</td>\n",
       "      <td>2.000000</td>\n",
       "      <td>20.125000</td>\n",
       "      <td>0.000000</td>\n",
       "      <td>0.000000</td>\n",
       "      <td>7.910400</td>\n",
       "    </tr>\n",
       "    <tr>\n",
       "      <th>50%</th>\n",
       "      <td>446.000000</td>\n",
       "      <td>0.000000</td>\n",
       "      <td>3.000000</td>\n",
       "      <td>28.000000</td>\n",
       "      <td>0.000000</td>\n",
       "      <td>0.000000</td>\n",
       "      <td>14.454200</td>\n",
       "    </tr>\n",
       "    <tr>\n",
       "      <th>75%</th>\n",
       "      <td>668.500000</td>\n",
       "      <td>1.000000</td>\n",
       "      <td>3.000000</td>\n",
       "      <td>38.000000</td>\n",
       "      <td>1.000000</td>\n",
       "      <td>0.000000</td>\n",
       "      <td>31.000000</td>\n",
       "    </tr>\n",
       "    <tr>\n",
       "      <th>max</th>\n",
       "      <td>891.000000</td>\n",
       "      <td>1.000000</td>\n",
       "      <td>3.000000</td>\n",
       "      <td>80.000000</td>\n",
       "      <td>8.000000</td>\n",
       "      <td>6.000000</td>\n",
       "      <td>512.329200</td>\n",
       "    </tr>\n",
       "  </tbody>\n",
       "</table>\n",
       "</div>"
      ],
      "text/plain": [
       "       PassengerId    Survived      Pclass         Age       SibSp  \\\n",
       "count   891.000000  891.000000  891.000000  714.000000  891.000000   \n",
       "mean    446.000000    0.383838    2.308642   29.699118    0.523008   \n",
       "std     257.353842    0.486592    0.836071   14.526497    1.102743   \n",
       "min       1.000000    0.000000    1.000000    0.420000    0.000000   \n",
       "25%     223.500000    0.000000    2.000000   20.125000    0.000000   \n",
       "50%     446.000000    0.000000    3.000000   28.000000    0.000000   \n",
       "75%     668.500000    1.000000    3.000000   38.000000    1.000000   \n",
       "max     891.000000    1.000000    3.000000   80.000000    8.000000   \n",
       "\n",
       "            Parch        Fare  \n",
       "count  891.000000  891.000000  \n",
       "mean     0.381594   32.204208  \n",
       "std      0.806057   49.693429  \n",
       "min      0.000000    0.000000  \n",
       "25%      0.000000    7.910400  \n",
       "50%      0.000000   14.454200  \n",
       "75%      0.000000   31.000000  \n",
       "max      6.000000  512.329200  "
      ]
     },
     "execution_count": 6,
     "metadata": {},
     "output_type": "execute_result"
    }
   ],
   "source": [
    "train.describe()"
   ]
  },
  {
   "cell_type": "code",
   "execution_count": 7,
   "metadata": {
    "colab": {
     "base_uri": "https://localhost:8080/",
     "height": 498
    },
    "id": "YhGT4WqTGbH2",
    "outputId": "02c7dcdb-bbb9-47b1-e979-8f2568516552"
   },
   "outputs": [
    {
     "data": {
      "image/png": "[encoded data removed]",
      "text/plain": [
       "<Figure size 720x576 with 9 Axes>"
      ]
     },
     "metadata": {
      "needs_background": "light"
     },
     "output_type": "display_data"
    }
   ],
   "source": [
    "#plotar histograma das variáveis numéricas\n",
    "\n",
    "train.hist(figsize=(10,8));\n",
    "plt.savefig('hist.png', dpi=300)"
   ]
  },
  {
   "cell_type": "markdown",
   "metadata": {
    "id": "JIAw9OPH7Kwj"
   },
   "source": [
    "## Grupos de pessoas com mais chances de sobreviver"
   ]
  },
  {
   "cell_type": "code",
   "execution_count": 8,
   "metadata": {
    "colab": {
     "base_uri": "https://localhost:8080/",
     "height": 137
    },
    "id": "5L7Z3-DA7U1h",
    "outputId": "9263f886-f856-459a-ce97-f68dee024d32"
   },
   "outputs": [
    {
     "data": {
      "text/html": [
       "<div>\n",
       "<style scoped>\n",
       "    .dataframe tbody tr th:only-of-type {\n",
       "        vertical-align: middle;\n",
       "    }\n",
       "\n",
       "    .dataframe tbody tr th {\n",
       "        vertical-align: top;\n",
       "    }\n",
       "\n",
       "    .dataframe thead th {\n",
       "        text-align: right;\n",
       "    }\n",
       "</style>\n",
       "<table border=\"1\" class=\"dataframe\">\n",
       "  <thead>\n",
       "    <tr style=\"text-align: right;\">\n",
       "      <th></th>\n",
       "      <th>Survived</th>\n",
       "    </tr>\n",
       "    <tr>\n",
       "      <th>Sex</th>\n",
       "      <th></th>\n",
       "    </tr>\n",
       "  </thead>\n",
       "  <tbody>\n",
       "    <tr>\n",
       "      <th>female</th>\n",
       "      <td>0.742038</td>\n",
       "    </tr>\n",
       "    <tr>\n",
       "      <th>male</th>\n",
       "      <td>0.188908</td>\n",
       "    </tr>\n",
       "  </tbody>\n",
       "</table>\n",
       "</div>"
      ],
      "text/plain": [
       "        Survived\n",
       "Sex             \n",
       "female  0.742038\n",
       "male    0.188908"
      ]
     },
     "execution_count": 8,
     "metadata": {},
     "output_type": "execute_result"
    }
   ],
   "source": [
    "#probabilidade de sobrevivência pelo sexo\n",
    "\n",
    "train[['Sex', 'Survived']].groupby(['Sex']).mean()"
   ]
  },
  {
   "cell_type": "code",
   "execution_count": 9,
   "metadata": {
    "colab": {
     "base_uri": "https://localhost:8080/",
     "height": 278
    },
    "id": "5H9UJTw17slh",
    "outputId": "1ea9b123-8d62-4234-964c-163d59728cc7"
   },
   "outputs": [
    {
     "data": {
      "image/png": "[encoded data removed]",
      "text/plain": [
       "<Figure size 1152x288 with 3 Axes>"
      ]
     },
     "metadata": {
      "needs_background": "light"
     },
     "output_type": "display_data"
    }
   ],
   "source": [
    "#plotar os gráficos para Survived vs. Sex, Pclass e Embarked\n",
    "\n",
    "fig, (axis1, axis2, axis3) = plt.subplots (1,3, figsize=(16,4))\n",
    "\n",
    "sns.barplot(x='Sex', y='Survived', data=train, ax=axis1)\n",
    "sns.barplot(x='Pclass', y='Survived', data=train, ax=axis2)\n",
    "sns.barplot(x='Embarked', y='Survived', data=train, ax=axis3);\n",
    "plt.savefig('barplot.png', dpi=300)"
   ]
  },
  {
   "cell_type": "code",
   "execution_count": 10,
   "metadata": {
    "colab": {
     "base_uri": "https://localhost:8080/",
     "height": 224
    },
    "id": "HgGyIJ1b88gA",
    "outputId": "417c9525-6797-4c9d-da18-33856ff39f34"
   },
   "outputs": [
    {
     "data": {
      "image/png": "[encoded data removed]",
      "text/plain": [
       "<Figure size 432x216 with 2 Axes>"
      ]
     },
     "metadata": {
      "needs_background": "light"
     },
     "output_type": "display_data"
    }
   ],
   "source": [
    "#influência da idade na probabilidade de sobrevivência\n",
    "\n",
    "age_survived = sns.FacetGrid(train, col='Survived')\n",
    "age_survived.map(sns.histplot, 'Age', kde=True);\n",
    "plt.savefig('histplot.png', dpi=300)"
   ]
  },
  {
   "cell_type": "code",
   "execution_count": 11,
   "metadata": {
    "colab": {
     "base_uri": "https://localhost:8080/",
     "height": 608
    },
    "id": "JN4hChVZ9sIz",
    "outputId": "045a51f6-c3b6-4356-9029-7fc48e1d8929"
   },
   "outputs": [
    {
     "data": {
      "image/png": "[encoded data removed]",
      "text/plain": [
       "<Figure size 1080x720 with 16 Axes>"
      ]
     },
     "metadata": {
      "needs_background": "light"
     },
     "output_type": "display_data"
    }
   ],
   "source": [
    "#plotar uma scatter matrix\n",
    "\n",
    "columns=['Parch', 'SibSp', 'Age', 'Pclass']\n",
    "pd.plotting.scatter_matrix(train[columns], figsize=(15,10));\n",
    "plt.savefig('scattermatrix.png', dpi=300)"
   ]
  },
  {
   "cell_type": "code",
   "execution_count": 12,
   "metadata": {
    "colab": {
     "base_uri": "https://localhost:8080/",
     "height": 320
    },
    "id": "QhDjwWkn-gVY",
    "outputId": "21088e04-a602-49ff-eaaa-694bbf8fb279"
   },
   "outputs": [
    {
     "data": {
      "image/png": "[encoded data removed]",
      "text/plain": [
       "<Figure size 432x288 with 2 Axes>"
      ]
     },
     "metadata": {
      "needs_background": "light"
     },
     "output_type": "display_data"
    }
   ],
   "source": [
    "#plotar o heatmap para variáveis numéricas\n",
    "sns.heatmap(train.corr(), cmap='coolwarm', fmt='.2f', linewidths=0.1,\n",
    "            vmax=1.0, square=True, linecolor='white', annot=True);\n",
    "plt.savefig('Heatmap.png', dpi=300)"
   ]
  },
  {
   "cell_type": "markdown",
   "metadata": {
    "id": "SPuTnX55E-o7"
   },
   "source": [
    "O método ```df.describe()``` pode ser utilizado para analisar a estatística descritiva de variáveis categóricas, passando o argumento ```include=['O']```."
   ]
  },
  {
   "cell_type": "code",
   "execution_count": 13,
   "metadata": {
    "colab": {
     "base_uri": "https://localhost:8080/",
     "height": 167
    },
    "id": "0odZSDh_FnCB",
    "outputId": "2ae57efd-240a-4082-ecb0-62101bd4a4c8"
   },
   "outputs": [
    {
     "data": {
      "text/html": [
       "<div>\n",
       "<style scoped>\n",
       "    .dataframe tbody tr th:only-of-type {\n",
       "        vertical-align: middle;\n",
       "    }\n",
       "\n",
       "    .dataframe tbody tr th {\n",
       "        vertical-align: top;\n",
       "    }\n",
       "\n",
       "    .dataframe thead th {\n",
       "        text-align: right;\n",
       "    }\n",
       "</style>\n",
       "<table border=\"1\" class=\"dataframe\">\n",
       "  <thead>\n",
       "    <tr style=\"text-align: right;\">\n",
       "      <th></th>\n",
       "      <th>Name</th>\n",
       "      <th>Sex</th>\n",
       "      <th>Ticket</th>\n",
       "      <th>Cabin</th>\n",
       "      <th>Embarked</th>\n",
       "    </tr>\n",
       "  </thead>\n",
       "  <tbody>\n",
       "    <tr>\n",
       "      <th>count</th>\n",
       "      <td>891</td>\n",
       "      <td>891</td>\n",
       "      <td>891</td>\n",
       "      <td>204</td>\n",
       "      <td>889</td>\n",
       "    </tr>\n",
       "    <tr>\n",
       "      <th>unique</th>\n",
       "      <td>891</td>\n",
       "      <td>2</td>\n",
       "      <td>681</td>\n",
       "      <td>147</td>\n",
       "      <td>3</td>\n",
       "    </tr>\n",
       "    <tr>\n",
       "      <th>top</th>\n",
       "      <td>Braund, Mr. Owen Harris</td>\n",
       "      <td>male</td>\n",
       "      <td>CA. 2343</td>\n",
       "      <td>B96 B98</td>\n",
       "      <td>S</td>\n",
       "    </tr>\n",
       "    <tr>\n",
       "      <th>freq</th>\n",
       "      <td>1</td>\n",
       "      <td>577</td>\n",
       "      <td>7</td>\n",
       "      <td>4</td>\n",
       "      <td>644</td>\n",
       "    </tr>\n",
       "  </tbody>\n",
       "</table>\n",
       "</div>"
      ],
      "text/plain": [
       "                           Name   Sex    Ticket    Cabin Embarked\n",
       "count                       891   891       891      204      889\n",
       "unique                      891     2       681      147        3\n",
       "top     Braund, Mr. Owen Harris  male  CA. 2343  B96 B98        S\n",
       "freq                          1   577         7        4      644"
      ]
     },
     "execution_count": 13,
     "metadata": {},
     "output_type": "execute_result"
    }
   ],
   "source": [
    "train.describe(include=['O'])"
   ]
  },
  {
   "cell_type": "markdown",
   "metadata": {
    "id": "saQQFLsFF-jK"
   },
   "source": [
    "Observando esses dados, temos que:\n",
    "\n",
    "* Os valores ```Name``` são únicos para cada pessoa;\n",
    "* Não há valores faltantes em ```Name``` e ```Sex```;\n",
    "* A frequência do sexo masculino é de 65% (577 de 891 pessoas);\n",
    "* O porto pelo qual embarcaram mais passageiros foi o de S = Southampton."
   ]
  },
  {
   "cell_type": "markdown",
   "metadata": {
    "id": "OWAqN02uHFtw"
   },
   "source": [
    "# 4 Preparação dos Dados\n",
    "\n",
    "Até agora, o que foi realizado se trata de analise exploratória, visualização de gráficos e correlação entre variáveis, etapas fundamentais no processo. \n",
    "\n",
    "Juntando os *datasets* de treino e teste\n",
    "\n",
    "Nessa análise, os datasets de treino e teste serão juntados e, somente no final, serão separados, para que sigam a mesma estrutura. "
   ]
  },
  {
   "cell_type": "code",
   "execution_count": 14,
   "metadata": {
    "colab": {
     "base_uri": "https://localhost:8080/"
    },
    "id": "dvtTLga9Mko8",
    "outputId": "a96657d2-84b6-4982-fb19-1cc54c2ac55b"
   },
   "outputs": [
    {
     "name": "stdout",
     "output_type": "stream",
     "text": [
      "df_merged.shape: (1309 x 11)\n"
     ]
    }
   ],
   "source": [
    "#salvar os índices dos datasets para recuperação\n",
    "\n",
    "train_idx = train.shape[0]\n",
    "test_idx = test.shape[0]\n",
    "\n",
    "#salvar PassengerId para submissão ao Kaggle\n",
    "\n",
    "passengerId = test['PassengerId']\n",
    "\n",
    "#extrair coluna 'Survived' e excluir ela no dataset treino\n",
    "target = train.Survived.copy()\n",
    "train.drop(['Survived'], axis=1, inplace=True)\n",
    "\n",
    "#concatenar treino e test em um único DataFrame\n",
    "df_merged = pd.concat(objs=[train, test], axis=0).reset_index(drop=True)\n",
    "\n",
    "print(f\"df_merged.shape: ({df_merged.shape[0]} x {df_merged.shape[1]})\")\n"
   ]
  },
  {
   "cell_type": "markdown",
   "metadata": {
    "id": "CikGr_jDOnsj"
   },
   "source": [
    "##Seleção de *features*\n",
    "\n",
    "São desconsideradas as variáveis ```'PassengerId'```, ```'Name'```, ```'Ticket'```, e ```'Cabin'```, pois aparentemente não são relevantes para o modelo.\n",
    "\n",
    "As variáveis que permanecem e serão tratadas para o modelo são ```'Pclass'```, ```'Sex'```, ```'Age'```, ```'SibSp'```, ```'Parch'```, ```'Fare'```, e ```'Embarked'```."
   ]
  },
  {
   "cell_type": "code",
   "execution_count": 15,
   "metadata": {
    "id": "iSVEmckfPg7D"
   },
   "outputs": [],
   "source": [
    "df_merged.drop(['PassengerId', 'Name', 'Ticket', 'Cabin'], axis=1, inplace=True)"
   ]
  },
  {
   "cell_type": "markdown",
   "metadata": {
    "id": "VD_iFdpyabgV"
   },
   "source": [
    "## Valores ausentes\n",
    "\n",
    "Analisados os valores que faltam em cada coluna, é verificado qual aborgem cabe a situação. Existem duas mais populares, que são preencher os valores arbitrariamente - com a média, mediana ou moda - ou excluir a linha inteira. Há também a possibilidade de aplicação de um modelo de *machine learning* para preencher os dados ausentes. \n",
    "\n",
    "Cabe ao responsável verificar o que é melhor para cada análise, mas, na maioria das vezes, não é recomendável excluir uma linha inteira por conta de um valor ausente, e sim preencher o campo. "
   ]
  },
  {
   "cell_type": "code",
   "execution_count": 16,
   "metadata": {
    "colab": {
     "base_uri": "https://localhost:8080/"
    },
    "id": "Dt3Enppscon0",
    "outputId": "b9c541a2-d9fa-4151-8dfc-d29e47f823c2"
   },
   "outputs": [
    {
     "data": {
      "text/plain": [
       "Pclass        0\n",
       "Sex           0\n",
       "Age         263\n",
       "SibSp         0\n",
       "Parch         0\n",
       "Fare          1\n",
       "Embarked      2\n",
       "dtype: int64"
      ]
     },
     "execution_count": 16,
     "metadata": {},
     "output_type": "execute_result"
    }
   ],
   "source": [
    "#verificar os dados ausentes\n",
    "\n",
    "df_merged.isnull().sum()"
   ]
  },
  {
   "cell_type": "markdown",
   "metadata": {
    "id": "Xqi9Z9hGc6HH"
   },
   "source": [
    "Os valores ausentes das variáveis ```Age```e ```Fare``` serão substituídos pelo valor da mediana, e a ```Embarked``` pelo valor da moda."
   ]
  },
  {
   "cell_type": "code",
   "execution_count": 17,
   "metadata": {
    "id": "PVz6zd0tdl_U"
   },
   "outputs": [],
   "source": [
    "#age\n",
    "age_median = df_merged['Age'].median()\n",
    "df_merged['Age'].fillna(age_median, inplace=True)\n",
    "\n",
    "#fare\n",
    "fare_median = df_merged['Fare'].median()\n",
    "df_merged['Fare'].fillna(fare_median, inplace=True)\n",
    "\n",
    "#embarked\n",
    "embarked_top = df_merged['Embarked'].value_counts().index[0]\n",
    "df_merged['Embarked'].fillna(embarked_top, inplace=True)"
   ]
  },
  {
   "cell_type": "markdown",
   "metadata": {
    "id": "VF1T-ocXer4S"
   },
   "source": [
    "##Preparação das variáveis para o modelo\n",
    "\n",
    "É necessário transformar variáveis categóricas em variáveis numéricas, por conta do modelo matemático. Então, a variável ```Sex``` é convertida para ```male```:0, e ```female```:1. Na variável ```Embarked``` é aplicado o conceito de variáveis dummies, onde uma nova coluna é criada para cada novo valor da variável, e assumem apenas os valores 0 e 1.\n"
   ]
  },
  {
   "cell_type": "code",
   "execution_count": 18,
   "metadata": {
    "colab": {
     "base_uri": "https://localhost:8080/",
     "height": 197
    },
    "id": "bA0kTwvYJmgA",
    "outputId": "7288ecb1-5e85-4419-9127-b008dd8b7fd1"
   },
   "outputs": [
    {
     "data": {
      "text/html": [
       "<div>\n",
       "<style scoped>\n",
       "    .dataframe tbody tr th:only-of-type {\n",
       "        vertical-align: middle;\n",
       "    }\n",
       "\n",
       "    .dataframe tbody tr th {\n",
       "        vertical-align: top;\n",
       "    }\n",
       "\n",
       "    .dataframe thead th {\n",
       "        text-align: right;\n",
       "    }\n",
       "</style>\n",
       "<table border=\"1\" class=\"dataframe\">\n",
       "  <thead>\n",
       "    <tr style=\"text-align: right;\">\n",
       "      <th></th>\n",
       "      <th>Pclass</th>\n",
       "      <th>Sex</th>\n",
       "      <th>Age</th>\n",
       "      <th>SibSp</th>\n",
       "      <th>Parch</th>\n",
       "      <th>Fare</th>\n",
       "      <th>Embarked_C</th>\n",
       "      <th>Embarked_Q</th>\n",
       "      <th>Embarked_S</th>\n",
       "    </tr>\n",
       "  </thead>\n",
       "  <tbody>\n",
       "    <tr>\n",
       "      <th>0</th>\n",
       "      <td>3</td>\n",
       "      <td>0</td>\n",
       "      <td>22.0</td>\n",
       "      <td>1</td>\n",
       "      <td>0</td>\n",
       "      <td>7.2500</td>\n",
       "      <td>0</td>\n",
       "      <td>0</td>\n",
       "      <td>1</td>\n",
       "    </tr>\n",
       "    <tr>\n",
       "      <th>1</th>\n",
       "      <td>1</td>\n",
       "      <td>1</td>\n",
       "      <td>38.0</td>\n",
       "      <td>1</td>\n",
       "      <td>0</td>\n",
       "      <td>71.2833</td>\n",
       "      <td>1</td>\n",
       "      <td>0</td>\n",
       "      <td>0</td>\n",
       "    </tr>\n",
       "    <tr>\n",
       "      <th>2</th>\n",
       "      <td>3</td>\n",
       "      <td>1</td>\n",
       "      <td>26.0</td>\n",
       "      <td>0</td>\n",
       "      <td>0</td>\n",
       "      <td>7.9250</td>\n",
       "      <td>0</td>\n",
       "      <td>0</td>\n",
       "      <td>1</td>\n",
       "    </tr>\n",
       "    <tr>\n",
       "      <th>3</th>\n",
       "      <td>1</td>\n",
       "      <td>1</td>\n",
       "      <td>35.0</td>\n",
       "      <td>1</td>\n",
       "      <td>0</td>\n",
       "      <td>53.1000</td>\n",
       "      <td>0</td>\n",
       "      <td>0</td>\n",
       "      <td>1</td>\n",
       "    </tr>\n",
       "    <tr>\n",
       "      <th>4</th>\n",
       "      <td>3</td>\n",
       "      <td>0</td>\n",
       "      <td>35.0</td>\n",
       "      <td>0</td>\n",
       "      <td>0</td>\n",
       "      <td>8.0500</td>\n",
       "      <td>0</td>\n",
       "      <td>0</td>\n",
       "      <td>1</td>\n",
       "    </tr>\n",
       "  </tbody>\n",
       "</table>\n",
       "</div>"
      ],
      "text/plain": [
       "   Pclass  Sex   Age  SibSp  Parch     Fare  Embarked_C  Embarked_Q  \\\n",
       "0       3    0  22.0      1      0   7.2500           0           0   \n",
       "1       1    1  38.0      1      0  71.2833           1           0   \n",
       "2       3    1  26.0      0      0   7.9250           0           0   \n",
       "3       1    1  35.0      1      0  53.1000           0           0   \n",
       "4       3    0  35.0      0      0   8.0500           0           0   \n",
       "\n",
       "   Embarked_S  \n",
       "0           1  \n",
       "1           0  \n",
       "2           1  \n",
       "3           1  \n",
       "4           1  "
      ]
     },
     "metadata": {},
     "output_type": "display_data"
    }
   ],
   "source": [
    "#converter Sex em 0 e 1\n",
    "\n",
    "df_merged['Sex'] = df_merged['Sex'].map({'male': 0, 'female': 1})\n",
    "\n",
    "\n",
    "#dummie variables para Embarked\n",
    "embarked_dummies = pd.get_dummies(df_merged['Embarked'], prefix='Embarked')\n",
    "df_merged = pd.concat([df_merged, embarked_dummies], axis=1)\n",
    "df_merged.drop('Embarked', axis=1, inplace=True)\n",
    "\n",
    "display(df_merged.head())\n"
   ]
  },
  {
   "cell_type": "markdown",
   "metadata": {
    "id": "ZWbXm9seL8Is"
   },
   "source": [
    "##Recuperação dos datasets de treino e teste\n",
    "\n",
    "O dataset está preparado para a aplicação do modelo e é o momento de ser dividido em ```train```e ```test```, como era no início. "
   ]
  },
  {
   "cell_type": "code",
   "execution_count": 19,
   "metadata": {
    "id": "ylCOtY7lMi2D"
   },
   "outputs": [],
   "source": [
    "#dividir df_merged em train e test\n",
    "\n",
    "train = df_merged.iloc[:train_idx]\n",
    "test = df_merged.iloc[train_idx:]"
   ]
  },
  {
   "cell_type": "markdown",
   "metadata": {
    "id": "fHDd56HFNbAo"
   },
   "source": [
    "#5 Construção do Modelo e Avaliação\n",
    "\n",
    "Será construído um modelo básicos d *Machine Learning*, o Modelo de Regressão Logística. "
   ]
  },
  {
   "cell_type": "code",
   "execution_count": 20,
   "metadata": {
    "colab": {
     "base_uri": "https://localhost:8080/"
    },
    "id": "i-Y_q8Ttk9Wm",
    "outputId": "eaab1b03-2d2b-4a3f-f186-d932a2c84273"
   },
   "outputs": [
    {
     "name": "stdout",
     "output_type": "stream",
     "text": [
      "Acurácia do Modelo de Regressão Logística: 80.13\n"
     ]
    }
   ],
   "source": [
    "#importar biblioteca do modelo de Machine Learning\n",
    "\n",
    "from sklearn.linear_model import LogisticRegression\n",
    "\n",
    "#criar o modelo de Regressão Logística\n",
    "\n",
    "lr_model = LogisticRegression(solver='liblinear')\n",
    "lr_model.fit(train, target)\n",
    "\n",
    "#verificar a acurácia do modelo\n",
    "acc_logReg = round(lr_model.score(train, target) * 100, 2)\n",
    "print(f\"Acurácia do Modelo de Regressão Logística: {(acc_logReg)}\")"
   ]
  },
  {
   "cell_type": "markdown",
   "metadata": {
    "id": "JAEMme92o5Pa"
   },
   "source": [
    "Utilizando os dados de treino, o modelo de Regressão Logística criado apresentou acurácia acima de 80%. Agora, o modelo será aplicado em cima dos dados de teste."
   ]
  },
  {
   "cell_type": "code",
   "execution_count": 21,
   "metadata": {
    "id": "fnWa6vVOpyq-"
   },
   "outputs": [],
   "source": [
    "y_pred_lr = lr_model.predict(test)\n",
    "\n",
    "submission = pd.DataFrame({\n",
    "        \"PassengerId\": passengerId,\n",
    "        \"Survived\": y_pred_lr\n",
    "    })\n",
    "\n",
    "#gerar arquivo csv\n",
    "submission.to_csv('./submission_lr.csv', index=False)"
   ]
  },
  {
   "cell_type": "markdown",
   "metadata": {
    "id": "yFGehEyrwHw6"
   },
   "source": [
    "No Kaggle, o modelo aplicado conseguiu um *score* de 76%\n",
    "\n",
    "<img src='https://raw.githubusercontent.com/jullymaellylima/data_science/master/kaggle%20titanic.jpg' width=\"80%\">\n",
    "\n",
    "É normal que haja um desempenho inferior quando usamos os dados de teste, pois o modelo foi treinado com base nos dados de treino, e tem um *fit* melhor com esses dados.\n"
   ]
  }
 ],
 "metadata": {
  "colab": {
   "name": "Desafio Kaggle Titanic - DEA e LR",
   "provenance": []
  },
  "kernelspec": {
   "display_name": "Python 3",
   "language": "python",
   "name": "python3"
  },
  "language_info": {
   "codemirror_mode": {
    "name": "ipython",
    "version": 3
   },
   "file_extension": ".py",
   "mimetype": "text/x-python",
   "name": "python",
   "nbconvert_exporter": "python",
   "pygments_lexer": "ipython3",
   "version": "3.8.1"
  }
 },
 "nbformat": 4,
 "nbformat_minor": 1
}
