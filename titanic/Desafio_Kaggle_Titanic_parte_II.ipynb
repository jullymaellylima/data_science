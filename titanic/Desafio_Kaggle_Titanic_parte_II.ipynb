{
 "cells": [
  {
   "cell_type": "markdown",
   "metadata": {
    "id": "KruOJ1krPpWW"
   },
   "source": [
    "# Titanic: Investigando o naufrágio por meio dos dados. Parte II\n",
    "\n",
    "[No meu primeiro artigo sobre o Titanic](https://jullymaelly.medium.com/titanic-investigando-o-naufr%C3%A1gio-atrav%C3%A9s-dos-dados-339cd1069637), foi realizada a Análise Exploratória dos dados e construído um modelo de Regressão Logística. Nesse artigo, são construídos também os modelos de KNN, Árvore de Decisão, Floresta Aleatória e XGBoost e seus desempenhos são comparados. \n",
    "\n",
    "**Utilizando uma base de dados real, o objetivo desse desafio é mensurar a chance de sobrevivencia dos passageiros do Titanic, de acordo com suas características.**"
   ]
  },
  {
   "cell_type": "markdown",
   "metadata": {
    "id": "-ZW19zsqvGKy"
   },
   "source": [
    "# Checklist do relatório:\n",
    "\n",
    "\n",
    "\n",
    "1. Definição do Problema; \n",
    "2. Modelos Construídos;\n",
    "3. Construção dos Modelos e Avaliação.\n",
    "\n"
   ]
  },
  {
   "cell_type": "markdown",
   "metadata": {
    "id": "XHChQFnY0Zvy"
   },
   "source": [
    "# 1. Definição do Problema\n",
    "\n",
    "Tratando-se de Machine Learning, existe uma grande variedade de modelos e há a necessidade de analisar qual se aplica melhor, conforme a necessidade - levando em conta os tipos de informações que o dataset possui, e qual o problema a ser resolvido. Após a construção de um modelo, é necessário verificar a acurácia do mesmo e analisar se o resultado obtido é bom o suficiente.\n",
    "\n",
    "Os modelos construídos nesse artigo são brevemente descritos na próxima sessão.\n",
    "A descrição do desafio e o dataset estão disponíveis na página do Kaggle: [Titanic - Machine Learning from Disaster](https://https://www.kaggle.com/c/titanic)\n",
    "\n",
    "\n",
    "## Objetivo\n",
    "Construção de mais quatro modelos preditivos, que têm seus desempenhos comparados ao modelo de Regressão Logística, aplicado no primeiro artigo. Os modelos utilizam os datasets do Titanic para apontar quais passageiros têm mais chances de sobreviver.\n",
    "\n",
    "Por fim, é construido também um modelo de previsão de sobrevivência para um passageiro qualquer que for inserido.\n",
    "\n",
    "## Métrica de desempenho\n",
    "\n",
    "O score é calculado baseado no número de previsões corretas do modelo, ou seja, considera a acurácia do modelo.\n"
   ]
  },
  {
   "cell_type": "markdown",
   "metadata": {
    "id": "j3hZk3c2m2Kk"
   },
   "source": [
    "# 2. Modelos Construídos\n",
    "\n",
    "## Regressão Logística (*Logistic Regression*)\n",
    "\n",
    "Regressão Logística é um algorítimo de *Machine Learning* e análise preditiva, que baseia-se no conceito de probabilidade, utilizado nos problemas de classificação, para atribuir observações a um cojunto discreto de classes. Temos como exemplos de problemas de classificação transações online fraude ou não fraude, tumor benigno ou maligno e, no caso desse artigo, sobrevivente ao naufrágio ou não sobrevivente. \n",
    "\n",
    "A Regressão Logística usa a função sigmóide logística para transformar sua saída e retorna um valor de propabilidade.\n",
    "\n",
    "\n",
    "## KNN (*K-Nearest Neighbors*)\n",
    "\n",
    "O KNN é um algorítmo no qual um ponto de dados não classificado recebe classificação com base em sua distância de pontos conhecidos. Ele é usado com mais frequência para classificação, mas também pode ser usado para resolver problemas de regressão.\n",
    "\n",
    "O KNN é um algorítmo de aprendizagem não paramétrico, e não prexisa de nenhum ponto de dados de treinamento para a construção do modelo. \n",
    "\n",
    "\n",
    "## Árvore de Decisão (*Decision Tree*)\n",
    "\n",
    "Árvore de Decisão é um algorítmo de aprendizado supervisionado para *Machine Learning*, que pode ser usado tanto para regressão como para classificação.\n",
    "Esse modelo é construído a partir de um processo de indução, que vai dividindo os dados em subconjuntos - cada vez mais puros.  Para selecionar os atributos que irão compor a árvore, são considerados o grau de entropia de um nó - a aleatoriedade em seus valores.\n",
    "\n",
    "\n",
    "## Floresta Aleatória (*Random Forest*)\n",
    "\n",
    "O algorítmo de Floresta Aleatória cria Árvores de Decisão em amostras de dados, obtém a previsão de cada uma delas e seleciona a melhor solução. É um método de *esemble* melhor do que uma única Árvore de Decisão, pois reduz o sobreajuste ao calcular a média do resultado.\n",
    "\n",
    "\n",
    "## XGBoost (*eXtreme Gradient Boosting*)\n",
    "\n",
    "O XGBoost é uma implementação de árvores de decisão, com aumento de gradiente, projetadas para velocidade e desempenho. Esse modelo é muito rápido quando comparado a outras implementações desse tipo.\n",
    "\n",
    "O XGBoost domina conjuntos de dados estruturados ou tabulares em problemas de modelagem preditiva de classificação e regressão.\n"
   ]
  },
  {
   "cell_type": "markdown",
   "metadata": {
    "id": "rxsL_sdQ85Ci"
   },
   "source": [
    "## 3. Construção dos Modelos e Avaliação.\n",
    "\n",
    "A parte que diz respeito a Análise Exploratória e tratamento dos dados está detalhada [no meu primeiro artigo sobre o Titanic](https://jullymaelly.medium.com/titanic-investigando-o-naufr%C3%A1gio-atrav%C3%A9s-dos-dados-339cd1069637).\n",
    "\n",
    "Os modelos são executados com os parâmetros *default*."
   ]
  },
  {
   "cell_type": "code",
   "execution_count": 1,
   "metadata": {
    "id": "CZnwW9EayXoj"
   },
   "outputs": [],
   "source": [
    "#pacotes necessários\n",
    "\n",
    "import pandas as pd\n",
    "import numpy as np\n",
    "import matplotlib.pyplot as plt\n",
    "import seaborn as sns\n",
    "\n",
    "#visualizar todas as colunas\n",
    "pd.options.display.max_columns = None"
   ]
  },
  {
   "cell_type": "code",
   "execution_count": 2,
   "metadata": {
    "id": "9rd59XWwzjtu"
   },
   "outputs": [],
   "source": [
    "train = pd.read_csv('./datasets/train.csv')\n",
    "test = pd.read_csv('./datasets/test.csv')"
   ]
  },
  {
   "cell_type": "code",
   "execution_count": 3,
   "metadata": {
    "colab": {
     "base_uri": "https://localhost:8080/"
    },
    "id": "dvtTLga9Mko8",
    "outputId": "a6a9ae06-e69e-448f-e3f8-fadf3470e279"
   },
   "outputs": [],
   "source": [
    "#juntando os datasets de treino e teste\n",
    "#salvar os índices dos datasets para recuperação posterior\n",
    "train_idx = train.shape[0]\n",
    "test_idx = test.shape[0]\n",
    "\n",
    "#salvar PassengerId para submissao ao Kaggle\n",
    "passengerId = test['PassengerId']\n",
    "\n",
    "#extrair coluna 'Survived' e excluir ela do dataset treino\n",
    "target = train.Survived.copy()\n",
    "train.drop(['Survived'], axis=1, inplace=True)\n",
    "\n",
    "#concatenar treino e teste em um único DataFrame\n",
    "df_merged = pd.concat(objs=[train, test], axis=0).reset_index(drop=True)\n",
    "\n",
    "#seleção de features\n",
    "df_merged.drop(['PassengerId', 'Name', 'Ticket', 'Cabin'], axis=1, inplace=True)\n",
    "\n",
    "#lidando com valores ausentes\n",
    "#age\n",
    "age_median = df_merged['Age'].median()\n",
    "df_merged['Age'].fillna(age_median, inplace=True)\n",
    "\n",
    "#fare\n",
    "fare_median = df_merged['Fare'].median()\n",
    "df_merged['Fare'].fillna(fare_median, inplace=True)\n",
    "\n",
    "#embarked\n",
    "embarked_top = df_merged['Embarked'].value_counts().index[0]\n",
    "df_merged['Embarked'].fillna(embarked_top, inplace=True)\n",
    "\n",
    "#preparação das variáveis para o modelo\n",
    "#converter Sex em 0 e 1\n",
    "df_merged['Sex'] = df_merged['Sex'].map({'male': 0, 'female': 1})\n",
    "\n",
    "#dummie variables para Embarked\n",
    "embarked_dummies = pd.get_dummies(df_merged['Embarked'], prefix='Embarked')\n",
    "df_merged = pd.concat([df_merged, embarked_dummies], axis=1)\n",
    "df_merged.drop('Embarked', axis=1, inplace=True)\n",
    "\n",
    "#recuperação dos datasets treino e teste\n",
    "#dividir df_merged em train e test\n",
    "train = df_merged.iloc[:train_idx]\n",
    "test = df_merged.iloc[train_idx:]"
   ]
  },
  {
   "cell_type": "markdown",
   "metadata": {
    "id": "ylCOtY7lMi2D"
   },
   "source": [
    "## Importar bibliotecas dos modelos "
   ]
  },
  {
   "cell_type": "code",
   "execution_count": 4,
   "metadata": {
    "id": "i-Y_q8Ttk9Wm"
   },
   "outputs": [],
   "source": [
    "# importar bibliotecas dos modelos \n",
    "\n",
    "from sklearn.linear_model import LogisticRegression\n",
    "from sklearn.neighbors import KNeighborsClassifier\n",
    "from sklearn.tree import DecisionTreeClassifier\n",
    "from sklearn.ensemble import RandomForestClassifier\n",
    "from xgboost import XGBClassifier\n"
   ]
  },
  {
   "cell_type": "markdown",
   "metadata": {
    "id": "lyh4x1uFC0-8"
   },
   "source": [
    "## Modelo de Regressão Logística (*Logistic Regression*)"
   ]
  },
  {
   "cell_type": "code",
   "execution_count": 5,
   "metadata": {
    "colab": {
     "base_uri": "https://localhost:8080/"
    },
    "id": "GI85FX-DCF58",
    "outputId": "59df0e55-90d0-4745-c47a-3d47b6e2daf7"
   },
   "outputs": [
    {
     "name": "stdout",
     "output_type": "stream",
     "text": [
      "Acurácia do Modelo de Regressão Logística: 80.13\n"
     ]
    }
   ],
   "source": [
    "# criação do modelo de Regressão Logística\n",
    "\n",
    "lr_model = LogisticRegression(solver='liblinear')\n",
    "lr_model.fit(train, target)\n",
    "\n",
    "# verificação da acurácia do modelo\n",
    "\n",
    "acc_logReg = round(lr_model.score(train, target) * 100, 2)\n",
    "print(f\"Acurácia do Modelo de Regressão Logística: {(acc_logReg)}\")"
   ]
  },
  {
   "cell_type": "markdown",
   "metadata": {
    "id": "JAEMme92o5Pa"
   },
   "source": [
    "Utilizando os dados de treino, o modelo de Regressão Logística criado apresentou acurácia acima de 80%. Agora, o modelo é aplicado em cima dos dados de teste. \n",
    "\n",
    "Como a etapa de criação do arquivo ```csv``` é executada várias vezes, é criada uma função para generalizar esse processo."
   ]
  },
  {
   "cell_type": "code",
   "execution_count": 6,
   "metadata": {
    "id": "_VEdXRSqGc2h"
   },
   "outputs": [],
   "source": [
    "# criação da função q gera o csv\n",
    "\n",
    "def gerar_csv(y_pred, model_name):\n",
    "  df = pd.DataFrame({\n",
    "        \"PassengerId\": passengerId,\n",
    "        \"Survived\": y_pred\n",
    "      })\n",
    "  \n",
    "  df.to_csv(f'./submission_{model_name}.csv', index=False)\n",
    "\n",
    "  return df.head()"
   ]
  },
  {
   "cell_type": "code",
   "execution_count": 7,
   "metadata": {
    "colab": {
     "base_uri": "https://localhost:8080/",
     "height": 198
    },
    "id": "yF3zh0umHvOe",
    "outputId": "bc3d1c2d-87ce-46b1-f87e-518a60a9fadf"
   },
   "outputs": [
    {
     "data": {
      "text/html": [
       "<div>\n",
       "<style scoped>\n",
       "    .dataframe tbody tr th:only-of-type {\n",
       "        vertical-align: middle;\n",
       "    }\n",
       "\n",
       "    .dataframe tbody tr th {\n",
       "        vertical-align: top;\n",
       "    }\n",
       "\n",
       "    .dataframe thead th {\n",
       "        text-align: right;\n",
       "    }\n",
       "</style>\n",
       "<table border=\"1\" class=\"dataframe\">\n",
       "  <thead>\n",
       "    <tr style=\"text-align: right;\">\n",
       "      <th></th>\n",
       "      <th>PassengerId</th>\n",
       "      <th>Survived</th>\n",
       "    </tr>\n",
       "  </thead>\n",
       "  <tbody>\n",
       "    <tr>\n",
       "      <th>0</th>\n",
       "      <td>892</td>\n",
       "      <td>0</td>\n",
       "    </tr>\n",
       "    <tr>\n",
       "      <th>1</th>\n",
       "      <td>893</td>\n",
       "      <td>0</td>\n",
       "    </tr>\n",
       "    <tr>\n",
       "      <th>2</th>\n",
       "      <td>894</td>\n",
       "      <td>0</td>\n",
       "    </tr>\n",
       "    <tr>\n",
       "      <th>3</th>\n",
       "      <td>895</td>\n",
       "      <td>0</td>\n",
       "    </tr>\n",
       "    <tr>\n",
       "      <th>4</th>\n",
       "      <td>896</td>\n",
       "      <td>1</td>\n",
       "    </tr>\n",
       "  </tbody>\n",
       "</table>\n",
       "</div>"
      ],
      "text/plain": [
       "   PassengerId  Survived\n",
       "0          892         0\n",
       "1          893         0\n",
       "2          894         0\n",
       "3          895         0\n",
       "4          896         1"
      ]
     },
     "execution_count": 7,
     "metadata": {},
     "output_type": "execute_result"
    }
   ],
   "source": [
    "# criação do arquivo csv\n",
    "y_pred_lr = lr_model.predict(test)\n",
    "\n",
    "gerar_csv(y_pred_lr, \"lr\")"
   ]
  },
  {
   "cell_type": "markdown",
   "metadata": {
    "id": "yFGehEyrwHw6"
   },
   "source": [
    "No Kaggle, o modelo aplicado conseguiu um *score* de 76%\n",
    "\n",
    "<img src='https://raw.githubusercontent.com/jullymaellylima/data_science/master/kaggle%20titanic.jpg' width=\"80%\">\n",
    "\n"
   ]
  },
  {
   "cell_type": "markdown",
   "metadata": {
    "id": "bZWoaSq7DKPd"
   },
   "source": [
    "## Modelo de KNN (*K-Nearest Neighbors*)"
   ]
  },
  {
   "cell_type": "code",
   "execution_count": 8,
   "metadata": {
    "colab": {
     "base_uri": "https://localhost:8080/"
    },
    "id": "U8fXNDSXEIVu",
    "outputId": "6846e8a9-5909-47fd-9abd-a1f58ce6d4d0"
   },
   "outputs": [
    {
     "name": "stdout",
     "output_type": "stream",
     "text": [
      "Acurácia do Modelo de KNN: 80.7\n"
     ]
    }
   ],
   "source": [
    "# criar o modelo de KNN\n",
    "\n",
    "knn_model = KNeighborsClassifier()\n",
    "knn_model.fit(train, target)\n",
    "\n",
    "# verificar a acurácia do modelo\n",
    "\n",
    "acc_knn = round(knn_model.score(train, target) * 100, 2)\n",
    "print(f\"Acurácia do Modelo de KNN: {(acc_knn)}\")"
   ]
  },
  {
   "cell_type": "code",
   "execution_count": 9,
   "metadata": {
    "colab": {
     "base_uri": "https://localhost:8080/",
     "height": 198
    },
    "id": "VmRYQxELF0IO",
    "outputId": "256e52fa-7c12-42e6-c4fc-6db1e2e627e5"
   },
   "outputs": [
    {
     "data": {
      "text/html": [
       "<div>\n",
       "<style scoped>\n",
       "    .dataframe tbody tr th:only-of-type {\n",
       "        vertical-align: middle;\n",
       "    }\n",
       "\n",
       "    .dataframe tbody tr th {\n",
       "        vertical-align: top;\n",
       "    }\n",
       "\n",
       "    .dataframe thead th {\n",
       "        text-align: right;\n",
       "    }\n",
       "</style>\n",
       "<table border=\"1\" class=\"dataframe\">\n",
       "  <thead>\n",
       "    <tr style=\"text-align: right;\">\n",
       "      <th></th>\n",
       "      <th>PassengerId</th>\n",
       "      <th>Survived</th>\n",
       "    </tr>\n",
       "  </thead>\n",
       "  <tbody>\n",
       "    <tr>\n",
       "      <th>0</th>\n",
       "      <td>892</td>\n",
       "      <td>0</td>\n",
       "    </tr>\n",
       "    <tr>\n",
       "      <th>1</th>\n",
       "      <td>893</td>\n",
       "      <td>0</td>\n",
       "    </tr>\n",
       "    <tr>\n",
       "      <th>2</th>\n",
       "      <td>894</td>\n",
       "      <td>0</td>\n",
       "    </tr>\n",
       "    <tr>\n",
       "      <th>3</th>\n",
       "      <td>895</td>\n",
       "      <td>1</td>\n",
       "    </tr>\n",
       "    <tr>\n",
       "      <th>4</th>\n",
       "      <td>896</td>\n",
       "      <td>0</td>\n",
       "    </tr>\n",
       "  </tbody>\n",
       "</table>\n",
       "</div>"
      ],
      "text/plain": [
       "   PassengerId  Survived\n",
       "0          892         0\n",
       "1          893         0\n",
       "2          894         0\n",
       "3          895         1\n",
       "4          896         0"
      ]
     },
     "execution_count": 9,
     "metadata": {},
     "output_type": "execute_result"
    }
   ],
   "source": [
    "# criação do arquivo csv\n",
    "\n",
    "y_pred_knn = knn_model.predict(test)\n",
    "\n",
    "gerar_csv(y_pred_knn, \"knn\")"
   ]
  },
  {
   "cell_type": "markdown",
   "metadata": {
    "id": "7y6D4EDeKWx_"
   },
   "source": [
    "No Kaggle, o Modelo KNN alcançou um *score* de 65%.\n",
    "\n",
    "<img src= 'https://github.com/jullymaellylima/data_science/blob/master/titanic/imgKaggle/knn.jpg?raw=true' width=\"80%\">\n"
   ]
  },
  {
   "cell_type": "markdown",
   "metadata": {
    "id": "SjIiPHDkDFnD"
   },
   "source": [
    "## Modelo de Árvore de Decisão (*Decision Tree*)"
   ]
  },
  {
   "cell_type": "code",
   "execution_count": 10,
   "metadata": {
    "colab": {
     "base_uri": "https://localhost:8080/"
    },
    "id": "pHCD0_099LOy",
    "outputId": "01348b48-1026-4a9f-ad3f-b8e5f10f33fd"
   },
   "outputs": [
    {
     "name": "stdout",
     "output_type": "stream",
     "text": [
      "Acurácia do modelo de Árvore de Decisão: 82.72\n"
     ]
    }
   ],
   "source": [
    "# criação de um modelo de árvore de decisão\n",
    "\n",
    "tree_model = DecisionTreeClassifier(max_depth=3)\n",
    "tree_model.fit(train, target)\n",
    "\n",
    "# verificação da acurácia do modelo\n",
    "\n",
    "acc_tree = round(tree_model.score(train, target) *100, 2)\n",
    "print(f\"Acurácia do modelo de Árvore de Decisão: {(acc_tree)}\")"
   ]
  },
  {
   "cell_type": "code",
   "execution_count": 11,
   "metadata": {
    "colab": {
     "base_uri": "https://localhost:8080/",
     "height": 198
    },
    "id": "wpaJYLYI-O2V",
    "outputId": "758e0cb5-b45d-41e6-9fd5-308865da9ce7"
   },
   "outputs": [
    {
     "data": {
      "text/html": [
       "<div>\n",
       "<style scoped>\n",
       "    .dataframe tbody tr th:only-of-type {\n",
       "        vertical-align: middle;\n",
       "    }\n",
       "\n",
       "    .dataframe tbody tr th {\n",
       "        vertical-align: top;\n",
       "    }\n",
       "\n",
       "    .dataframe thead th {\n",
       "        text-align: right;\n",
       "    }\n",
       "</style>\n",
       "<table border=\"1\" class=\"dataframe\">\n",
       "  <thead>\n",
       "    <tr style=\"text-align: right;\">\n",
       "      <th></th>\n",
       "      <th>PassengerId</th>\n",
       "      <th>Survived</th>\n",
       "    </tr>\n",
       "  </thead>\n",
       "  <tbody>\n",
       "    <tr>\n",
       "      <th>0</th>\n",
       "      <td>892</td>\n",
       "      <td>0</td>\n",
       "    </tr>\n",
       "    <tr>\n",
       "      <th>1</th>\n",
       "      <td>893</td>\n",
       "      <td>1</td>\n",
       "    </tr>\n",
       "    <tr>\n",
       "      <th>2</th>\n",
       "      <td>894</td>\n",
       "      <td>0</td>\n",
       "    </tr>\n",
       "    <tr>\n",
       "      <th>3</th>\n",
       "      <td>895</td>\n",
       "      <td>0</td>\n",
       "    </tr>\n",
       "    <tr>\n",
       "      <th>4</th>\n",
       "      <td>896</td>\n",
       "      <td>1</td>\n",
       "    </tr>\n",
       "  </tbody>\n",
       "</table>\n",
       "</div>"
      ],
      "text/plain": [
       "   PassengerId  Survived\n",
       "0          892         0\n",
       "1          893         1\n",
       "2          894         0\n",
       "3          895         0\n",
       "4          896         1"
      ]
     },
     "execution_count": 11,
     "metadata": {},
     "output_type": "execute_result"
    }
   ],
   "source": [
    "# criação do arquivo csv\n",
    "\n",
    "y_pred_tree = tree_model.predict(test)\n",
    "\n",
    "gerar_csv(y_pred_tree, \"tree\")"
   ]
  },
  {
   "cell_type": "markdown",
   "metadata": {
    "id": "5tupBFh0AO1Q"
   },
   "source": [
    "No Kaggle, a acurácia foi de 77%, menor do que a acurácia do treino, como já era previsto.\n",
    "\n",
    "<img src='https://raw.githubusercontent.com/jullymaellylima/data_science/master/image.png' width=\"80%\">\n",
    "\n",
    "\n"
   ]
  },
  {
   "cell_type": "markdown",
   "metadata": {
    "id": "Ra6zJkk0DVFR"
   },
   "source": [
    "## Modelo de Floresta Aleatória (*Random Forest*)"
   ]
  },
  {
   "cell_type": "code",
   "execution_count": 12,
   "metadata": {
    "colab": {
     "base_uri": "https://localhost:8080/"
    },
    "id": "mV3D1pAsMw0S",
    "outputId": "bbbe55af-e2ee-404f-fd92-56364b8cbf33"
   },
   "outputs": [
    {
     "name": "stdout",
     "output_type": "stream",
     "text": [
      "Acurácia do modelo de Floresta Aleatória: 83.5\n"
     ]
    }
   ],
   "source": [
    "# criação de um modelo de Floresta Aleatória\n",
    "\n",
    "rf_model = RandomForestClassifier(max_depth=3)\n",
    "rf_model.fit(train, target)\n",
    "\n",
    "# verificação da acurácia do modelo\n",
    "\n",
    "acc_rf = round(rf_model.score(train, target) *100, 2)\n",
    "print(f\"Acurácia do modelo de Floresta Aleatória: {(acc_rf)}\")"
   ]
  },
  {
   "cell_type": "code",
   "execution_count": 13,
   "metadata": {
    "colab": {
     "base_uri": "https://localhost:8080/",
     "height": 198
    },
    "id": "u1_6UAvKOw1f",
    "outputId": "6559119f-0d35-4d3a-85f6-9b0b3b6f6500"
   },
   "outputs": [
    {
     "data": {
      "text/html": [
       "<div>\n",
       "<style scoped>\n",
       "    .dataframe tbody tr th:only-of-type {\n",
       "        vertical-align: middle;\n",
       "    }\n",
       "\n",
       "    .dataframe tbody tr th {\n",
       "        vertical-align: top;\n",
       "    }\n",
       "\n",
       "    .dataframe thead th {\n",
       "        text-align: right;\n",
       "    }\n",
       "</style>\n",
       "<table border=\"1\" class=\"dataframe\">\n",
       "  <thead>\n",
       "    <tr style=\"text-align: right;\">\n",
       "      <th></th>\n",
       "      <th>PassengerId</th>\n",
       "      <th>Survived</th>\n",
       "    </tr>\n",
       "  </thead>\n",
       "  <tbody>\n",
       "    <tr>\n",
       "      <th>0</th>\n",
       "      <td>892</td>\n",
       "      <td>0</td>\n",
       "    </tr>\n",
       "    <tr>\n",
       "      <th>1</th>\n",
       "      <td>893</td>\n",
       "      <td>0</td>\n",
       "    </tr>\n",
       "    <tr>\n",
       "      <th>2</th>\n",
       "      <td>894</td>\n",
       "      <td>0</td>\n",
       "    </tr>\n",
       "    <tr>\n",
       "      <th>3</th>\n",
       "      <td>895</td>\n",
       "      <td>0</td>\n",
       "    </tr>\n",
       "    <tr>\n",
       "      <th>4</th>\n",
       "      <td>896</td>\n",
       "      <td>1</td>\n",
       "    </tr>\n",
       "  </tbody>\n",
       "</table>\n",
       "</div>"
      ],
      "text/plain": [
       "   PassengerId  Survived\n",
       "0          892         0\n",
       "1          893         0\n",
       "2          894         0\n",
       "3          895         0\n",
       "4          896         1"
      ]
     },
     "execution_count": 13,
     "metadata": {},
     "output_type": "execute_result"
    }
   ],
   "source": [
    "# criação do arquivo csv\n",
    "\n",
    "y_pred_rf = rf_model.predict(test)\n",
    "\n",
    "gerar_csv(y_pred_rf, \"rf\")"
   ]
  },
  {
   "cell_type": "markdown",
   "metadata": {
    "id": "Toagj8ytRMYn"
   },
   "source": [
    "No Kaggle a acurácia do modelo foi de 77%.\n",
    "\n",
    "<img src='https://github.com/jullymaellylima/data_science/blob/master/titanic/imgKaggle/rf.jpg?raw=true' width=\"80%\">\n"
   ]
  },
  {
   "cell_type": "markdown",
   "metadata": {
    "id": "x2C-Np7vDz_I"
   },
   "source": [
    "## Modelo de XGBoost (*eXtreme Gradient Boosting*)"
   ]
  },
  {
   "cell_type": "code",
   "execution_count": 14,
   "metadata": {
    "colab": {
     "base_uri": "https://localhost:8080/"
    },
    "id": "VeUjCngewN6T",
    "outputId": "8bd19d22-10c9-4c7c-9218-1de10fd99654"
   },
   "outputs": [
    {
     "name": "stdout",
     "output_type": "stream",
     "text": [
      "Acurácia do modelo de Árvore de Decisão: 87.88\n"
     ]
    }
   ],
   "source": [
    "# criação do modelo XGBoost\n",
    "\n",
    "xgb_model = XGBClassifier(use_label_encoder=False, eval_metric='error')\n",
    "xgb_model.fit(train, target)\n",
    "\n",
    "# verificação da acurácia do modelo\n",
    "\n",
    "acc_xgb = round(xgb_model.score(train, target) *100, 2)\n",
    "print(f\"Acurácia do modelo de Árvore de Decisão: {(acc_xgb)}\")"
   ]
  },
  {
   "cell_type": "code",
   "execution_count": 15,
   "metadata": {
    "colab": {
     "base_uri": "https://localhost:8080/",
     "height": 198
    },
    "id": "lesgu-4_qK3r",
    "outputId": "de1c319c-6057-470c-cda1-8766f5158497"
   },
   "outputs": [
    {
     "data": {
      "text/html": [
       "<div>\n",
       "<style scoped>\n",
       "    .dataframe tbody tr th:only-of-type {\n",
       "        vertical-align: middle;\n",
       "    }\n",
       "\n",
       "    .dataframe tbody tr th {\n",
       "        vertical-align: top;\n",
       "    }\n",
       "\n",
       "    .dataframe thead th {\n",
       "        text-align: right;\n",
       "    }\n",
       "</style>\n",
       "<table border=\"1\" class=\"dataframe\">\n",
       "  <thead>\n",
       "    <tr style=\"text-align: right;\">\n",
       "      <th></th>\n",
       "      <th>PassengerId</th>\n",
       "      <th>Survived</th>\n",
       "    </tr>\n",
       "  </thead>\n",
       "  <tbody>\n",
       "    <tr>\n",
       "      <th>0</th>\n",
       "      <td>892</td>\n",
       "      <td>0</td>\n",
       "    </tr>\n",
       "    <tr>\n",
       "      <th>1</th>\n",
       "      <td>893</td>\n",
       "      <td>0</td>\n",
       "    </tr>\n",
       "    <tr>\n",
       "      <th>2</th>\n",
       "      <td>894</td>\n",
       "      <td>0</td>\n",
       "    </tr>\n",
       "    <tr>\n",
       "      <th>3</th>\n",
       "      <td>895</td>\n",
       "      <td>0</td>\n",
       "    </tr>\n",
       "    <tr>\n",
       "      <th>4</th>\n",
       "      <td>896</td>\n",
       "      <td>0</td>\n",
       "    </tr>\n",
       "  </tbody>\n",
       "</table>\n",
       "</div>"
      ],
      "text/plain": [
       "   PassengerId  Survived\n",
       "0          892         0\n",
       "1          893         0\n",
       "2          894         0\n",
       "3          895         0\n",
       "4          896         0"
      ]
     },
     "execution_count": 15,
     "metadata": {},
     "output_type": "execute_result"
    }
   ],
   "source": [
    "# criação do arquivo csv\n",
    "\n",
    "y_pred_xgb = xgb_model.predict(test)\n",
    "\n",
    "gerar_csv(y_pred_xgb, \"xgb\")"
   ]
  },
  {
   "cell_type": "markdown",
   "metadata": {
    "id": "Ar1mLWmjSOGj"
   },
   "source": [
    "O modelo apresentou no Kaggle uma acurácia de 78%.\n",
    "\n",
    "<img src='https://github.com/jullymaellylima/data_science/blob/master/titanic/imgKaggle/xgb.jpg?raw=true' width=\"80%\">\n",
    "\n"
   ]
  },
  {
   "cell_type": "markdown",
   "metadata": {
    "id": "wjM_eEMESi5i"
   },
   "source": [
    "## Comparação entre os resultados"
   ]
  },
  {
   "cell_type": "code",
   "execution_count": 16,
   "metadata": {
    "colab": {
     "base_uri": "https://localhost:8080/",
     "height": 198
    },
    "id": "k4HwXvOgSzaH",
    "outputId": "01fbad74-c4ee-43a8-8bad-23616ad9e2b9"
   },
   "outputs": [
    {
     "data": {
      "text/html": [
       "<div>\n",
       "<style scoped>\n",
       "    .dataframe tbody tr th:only-of-type {\n",
       "        vertical-align: middle;\n",
       "    }\n",
       "\n",
       "    .dataframe tbody tr th {\n",
       "        vertical-align: top;\n",
       "    }\n",
       "\n",
       "    .dataframe thead th {\n",
       "        text-align: right;\n",
       "    }\n",
       "</style>\n",
       "<table border=\"1\" class=\"dataframe\">\n",
       "  <thead>\n",
       "    <tr style=\"text-align: right;\">\n",
       "      <th></th>\n",
       "      <th>MODELO</th>\n",
       "      <th>ACURACIA_DO_MODELO</th>\n",
       "      <th>SCORE_KAGGLE</th>\n",
       "    </tr>\n",
       "  </thead>\n",
       "  <tbody>\n",
       "    <tr>\n",
       "      <th>0</th>\n",
       "      <td>Logistic Regression</td>\n",
       "      <td>80.13</td>\n",
       "      <td>76.31</td>\n",
       "    </tr>\n",
       "    <tr>\n",
       "      <th>1</th>\n",
       "      <td>K-Nearest Neighbors</td>\n",
       "      <td>80.70</td>\n",
       "      <td>65.55</td>\n",
       "    </tr>\n",
       "    <tr>\n",
       "      <th>2</th>\n",
       "      <td>Decision Tree</td>\n",
       "      <td>82.72</td>\n",
       "      <td>77.51</td>\n",
       "    </tr>\n",
       "    <tr>\n",
       "      <th>3</th>\n",
       "      <td>Random Forest</td>\n",
       "      <td>83.50</td>\n",
       "      <td>77.51</td>\n",
       "    </tr>\n",
       "    <tr>\n",
       "      <th>4</th>\n",
       "      <td>XGBoost</td>\n",
       "      <td>87.88</td>\n",
       "      <td>78.22</td>\n",
       "    </tr>\n",
       "  </tbody>\n",
       "</table>\n",
       "</div>"
      ],
      "text/plain": [
       "                MODELO  ACURACIA_DO_MODELO  SCORE_KAGGLE\n",
       "0  Logistic Regression               80.13         76.31\n",
       "1  K-Nearest Neighbors               80.70         65.55\n",
       "2        Decision Tree               82.72         77.51\n",
       "3        Random Forest               83.50         77.51\n",
       "4              XGBoost               87.88         78.22"
      ]
     },
     "execution_count": 16,
     "metadata": {},
     "output_type": "execute_result"
    }
   ],
   "source": [
    "# comparação dos resultados\n",
    "\n",
    "resultado = pd.DataFrame({\n",
    "        \"MODELO\": ['Logistic Regression', 'K-Nearest Neighbors', 'Decision Tree', 'Random Forest', 'XGBoost'],\n",
    "        \"ACURACIA_DO_MODELO\": [acc_logReg, acc_knn, acc_tree, acc_rf, acc_xgb], \n",
    "        \"SCORE_KAGGLE\": [76.31, 65.55, 77.51, 77.51, 78.22]\n",
    "      })\n",
    "\n",
    "resultado"
   ]
  },
  {
   "cell_type": "code",
   "execution_count": 17,
   "metadata": {
    "colab": {
     "base_uri": "https://localhost:8080/",
     "height": 389
    },
    "id": "qO6umaaoVZRH",
    "outputId": "90d43016-f69e-4035-dcd4-759eb7ff6f07"
   },
   "outputs": [
    {
     "data": {
      "image/png": "[encoded data removed]",
      "text/plain": [
       "<Figure size 576x360 with 1 Axes>"
      ]
     },
     "metadata": {
      "needs_background": "light"
     },
     "output_type": "display_data"
    }
   ],
   "source": [
    "plt.figure(figsize=(8, 5))\n",
    "plt.plot(resultado['MODELO'], resultado['ACURACIA_DO_MODELO'], \n",
    "         label='Acurácia do Modelo',\n",
    "         linewidth=2.0)\n",
    "plt.plot(resultado['MODELO'], resultado['SCORE_KAGGLE'], \n",
    "         color='red',   \n",
    "         linewidth=2.0,\n",
    "         label='Score Kaggle' \n",
    "        )\n",
    "plt.xticks(rotation=45)\n",
    "plt.legend()\n",
    "plt.savefig('comparacao.png', dpi = 300)"
   ]
  },
  {
   "cell_type": "markdown",
   "metadata": {
    "id": "kVoOtQj9c1mE"
   },
   "source": [
    "É possível concluir que os respectivos desempenhos dos modelos no Kaggle apresentam uma acurácia menor, o que já é esperado, pois os modelos foram treinados com base nos dados de treino, e têm um *fit* melhor com esses dados.\n",
    "\n",
    "O modelo KNN, apesar de ter tido um desempenho - com os dados de treino - melhor que o modelo de Regressão Logística, foi o que apresentou a acurácia mais baixa dentre todos. E o XGBoost foi o que obteve o melhor desemprenho, tanto com os dados de treino, como no Kaggle.\n",
    "\n"
   ]
  },
  {
   "cell_type": "markdown",
   "metadata": {
    "id": "KLP7OGgoqE7N"
   },
   "source": [
    "## Eu sobreviveria ao Titanic?\n",
    "\n",
    "Analiso se eu, caso estivesse a bordo do Titanic, e de acordo com o modelo, sobreviveria ao naufrágil. Considero que estaria na segunda classe, sem filhos e sem acompanhantes, pagando o ticket de preço médio e embarcando no porto em Southampton."
   ]
  },
  {
   "cell_type": "code",
   "execution_count": 18,
   "metadata": {
    "colab": {
     "base_uri": "https://localhost:8080/"
    },
    "id": "IKYgkV6NEqB1",
    "outputId": "5f78644b-9f24-4530-fff9-d52b652cb4eb"
   },
   "outputs": [
    {
     "name": "stdout",
     "output_type": "stream",
     "text": [
      "Jully Maelly:\t1\n"
     ]
    }
   ],
   "source": [
    "#declarar os valores das variáveis\n",
    "jully_maelly = np.array([2, 1, 29, 0, 0, 32.2, 0, 0, 1]).reshape((1, -1))\n",
    "\n",
    "#verificar se eu teria sobrevivido\n",
    "print(f\"Jully Maelly:\\t{(tree_model.predict(jully_maelly)[0])}\")"
   ]
  },
  {
   "cell_type": "markdown",
   "metadata": {
    "id": "QaadQr49GKz7"
   },
   "source": [
    "De acordo com o modelo aplicado, eu teria sobrevivido ao naufrágio."
   ]
  }
 ],
 "metadata": {
  "colab": {
   "name": "Desafio Kaggle Titanic parte II",
   "provenance": []
  },
  "kernelspec": {
   "display_name": "Python 3",
   "language": "python",
   "name": "python3"
  },
  "language_info": {
   "codemirror_mode": {
    "name": "ipython",
    "version": 3
   },
   "file_extension": ".py",
   "mimetype": "text/x-python",
   "name": "python",
   "nbconvert_exporter": "python",
   "pygments_lexer": "ipython3",
   "version": "3.8.1"
  }
 },
 "nbformat": 4,
 "nbformat_minor": 1
}
